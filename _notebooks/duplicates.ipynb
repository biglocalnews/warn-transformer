{
 "cells": [
  {
   "cell_type": "markdown",
   "id": "f0efd7ea-aba9-4889-bd35-c1effbb64b33",
   "metadata": {},
   "source": [
    "# Duplicates\n",
    "\n",
    "Exploring the repeating records with in the dataset."
   ]
  },
  {
   "cell_type": "code",
   "execution_count": 22,
   "id": "347cae8c-4ecc-4048-8560-d5398e0789df",
   "metadata": {},
   "outputs": [],
   "source": [
    "import pandas as pd"
   ]
  },
  {
   "cell_type": "code",
   "execution_count": 23,
   "id": "bf0d5141-7737-4189-834c-6a2ab5a57ce4",
   "metadata": {},
   "outputs": [],
   "source": [
    "df = pd.read_csv(\"../.warn-transformer/processed/consolidated.csv\")"
   ]
  },
  {
   "cell_type": "code",
   "execution_count": 24,
   "id": "bf22d02f-8d00-4d23-9f70-39334c79e628",
   "metadata": {},
   "outputs": [
    {
     "name": "stdout",
     "output_type": "stream",
     "text": [
      "<class 'pandas.core.frame.DataFrame'>\n",
      "RangeIndex: 42218 entries, 0 to 42217\n",
      "Data columns (total 6 columns):\n",
      " #   Column       Non-Null Count  Dtype  \n",
      "---  ------       --------------  -----  \n",
      " 0   postal_code  42218 non-null  object \n",
      " 1   date         42211 non-null  object \n",
      " 2   hash_id      42218 non-null  object \n",
      " 3   location     41687 non-null  object \n",
      " 4   jobs         41744 non-null  float64\n",
      " 5   company      42218 non-null  object \n",
      "dtypes: float64(1), object(5)\n",
      "memory usage: 1.9+ MB\n"
     ]
    }
   ],
   "source": [
    "df.info()"
   ]
  },
  {
   "cell_type": "code",
   "execution_count": 25,
   "id": "1c62bf91-5327-4ad4-82a7-1cf9dda51b70",
   "metadata": {},
   "outputs": [
    {
     "data": {
      "text/html": [
       "<div>\n",
       "<style scoped>\n",
       "    .dataframe tbody tr th:only-of-type {\n",
       "        vertical-align: middle;\n",
       "    }\n",
       "\n",
       "    .dataframe tbody tr th {\n",
       "        vertical-align: top;\n",
       "    }\n",
       "\n",
       "    .dataframe thead th {\n",
       "        text-align: right;\n",
       "    }\n",
       "</style>\n",
       "<table border=\"1\" class=\"dataframe\">\n",
       "  <thead>\n",
       "    <tr style=\"text-align: right;\">\n",
       "      <th></th>\n",
       "      <th>postal_code</th>\n",
       "      <th>date</th>\n",
       "      <th>hash_id</th>\n",
       "      <th>location</th>\n",
       "      <th>jobs</th>\n",
       "      <th>company</th>\n",
       "    </tr>\n",
       "  </thead>\n",
       "  <tbody>\n",
       "    <tr>\n",
       "      <th>0</th>\n",
       "      <td>AK</td>\n",
       "      <td>2021-09-16</td>\n",
       "      <td>1d826f1b7895fa3c8c7320c1d6bf0411483e75fa2c4c57...</td>\n",
       "      <td>Anchorage</td>\n",
       "      <td>40.0</td>\n",
       "      <td>Bean’s Cafe</td>\n",
       "    </tr>\n",
       "    <tr>\n",
       "      <th>1</th>\n",
       "      <td>AK</td>\n",
       "      <td>2021-07-02</td>\n",
       "      <td>bcb9ef28ff69e2578b92e0191ebb0a6b37d89b623c4cf5...</td>\n",
       "      <td>Prudhoe Bay</td>\n",
       "      <td>134.0</td>\n",
       "      <td>Kakivik Asset Mgmt</td>\n",
       "    </tr>\n",
       "    <tr>\n",
       "      <th>2</th>\n",
       "      <td>AK</td>\n",
       "      <td>2021-04-30</td>\n",
       "      <td>a1e57d33099ca7afb79ab240cc9d6c5b235cfaf1b78345...</td>\n",
       "      <td>Fairbanks, North Pole</td>\n",
       "      <td>185.0</td>\n",
       "      <td>First Student</td>\n",
       "    </tr>\n",
       "    <tr>\n",
       "      <th>3</th>\n",
       "      <td>AK</td>\n",
       "      <td>2021-04-12</td>\n",
       "      <td>bc15861d1cdf1e5428061585fd794d2efba61fdecdd8e7...</td>\n",
       "      <td>Anchorage</td>\n",
       "      <td>59.0</td>\n",
       "      <td>GCI Communication Group</td>\n",
       "    </tr>\n",
       "    <tr>\n",
       "      <th>4</th>\n",
       "      <td>AK</td>\n",
       "      <td>2020-09-30</td>\n",
       "      <td>8a22fcc406104ba48d21f2eb3ec6df18f170e2f5c79ff8...</td>\n",
       "      <td>Anchorage and 20 smaller Alaska communities, p...</td>\n",
       "      <td>1234.0</td>\n",
       "      <td>RavnAir Group, Corvus Airlines, Hageland Aviat...</td>\n",
       "    </tr>\n",
       "  </tbody>\n",
       "</table>\n",
       "</div>"
      ],
      "text/plain": [
       "  postal_code        date                                            hash_id  \\\n",
       "0          AK  2021-09-16  1d826f1b7895fa3c8c7320c1d6bf0411483e75fa2c4c57...   \n",
       "1          AK  2021-07-02  bcb9ef28ff69e2578b92e0191ebb0a6b37d89b623c4cf5...   \n",
       "2          AK  2021-04-30  a1e57d33099ca7afb79ab240cc9d6c5b235cfaf1b78345...   \n",
       "3          AK  2021-04-12  bc15861d1cdf1e5428061585fd794d2efba61fdecdd8e7...   \n",
       "4          AK  2020-09-30  8a22fcc406104ba48d21f2eb3ec6df18f170e2f5c79ff8...   \n",
       "\n",
       "                                            location    jobs  \\\n",
       "0                                          Anchorage    40.0   \n",
       "1                                        Prudhoe Bay   134.0   \n",
       "2                              Fairbanks, North Pole   185.0   \n",
       "3                                          Anchorage    59.0   \n",
       "4  Anchorage and 20 smaller Alaska communities, p...  1234.0   \n",
       "\n",
       "                                             company  \n",
       "0                                        Bean’s Cafe  \n",
       "1                                 Kakivik Asset Mgmt  \n",
       "2                                      First Student  \n",
       "3                            GCI Communication Group  \n",
       "4  RavnAir Group, Corvus Airlines, Hageland Aviat...  "
      ]
     },
     "execution_count": 25,
     "metadata": {},
     "output_type": "execute_result"
    }
   ],
   "source": [
    "df.head()"
   ]
  },
  {
   "cell_type": "code",
   "execution_count": 26,
   "id": "2c7979b6-9fb7-48c8-aa55-c3b7bb585073",
   "metadata": {},
   "outputs": [],
   "source": [
    "dupes_df = df[df.duplicated()]"
   ]
  },
  {
   "cell_type": "code",
   "execution_count": 27,
   "id": "4e774c0b-ccea-463c-a30d-dc0f1d4b495a",
   "metadata": {},
   "outputs": [
    {
     "name": "stdout",
     "output_type": "stream",
     "text": [
      "<class 'pandas.core.frame.DataFrame'>\n",
      "Int64Index: 0 entries\n",
      "Data columns (total 6 columns):\n",
      " #   Column       Non-Null Count  Dtype  \n",
      "---  ------       --------------  -----  \n",
      " 0   postal_code  0 non-null      object \n",
      " 1   date         0 non-null      object \n",
      " 2   hash_id      0 non-null      object \n",
      " 3   location     0 non-null      object \n",
      " 4   jobs         0 non-null      float64\n",
      " 5   company      0 non-null      object \n",
      "dtypes: float64(1), object(5)\n",
      "memory usage: 0.0+ bytes\n"
     ]
    }
   ],
   "source": [
    "dupes_df.info()"
   ]
  },
  {
   "cell_type": "code",
   "execution_count": 28,
   "id": "fd57810b-3bc7-4c77-8ba2-ae4469b14ddb",
   "metadata": {},
   "outputs": [
    {
     "data": {
      "text/html": [
       "<div>\n",
       "<style scoped>\n",
       "    .dataframe tbody tr th:only-of-type {\n",
       "        vertical-align: middle;\n",
       "    }\n",
       "\n",
       "    .dataframe tbody tr th {\n",
       "        vertical-align: top;\n",
       "    }\n",
       "\n",
       "    .dataframe thead th {\n",
       "        text-align: right;\n",
       "    }\n",
       "</style>\n",
       "<table border=\"1\" class=\"dataframe\">\n",
       "  <thead>\n",
       "    <tr style=\"text-align: right;\">\n",
       "      <th></th>\n",
       "      <th>postal_code</th>\n",
       "      <th>total</th>\n",
       "    </tr>\n",
       "  </thead>\n",
       "  <tbody>\n",
       "  </tbody>\n",
       "</table>\n",
       "</div>"
      ],
      "text/plain": [
       "Empty DataFrame\n",
       "Columns: [postal_code, total]\n",
       "Index: []"
      ]
     },
     "execution_count": 28,
     "metadata": {},
     "output_type": "execute_result"
    }
   ],
   "source": [
    "dupes_df.groupby(\"postal_code\").size().rename(\"total\").reset_index()"
   ]
  },
  {
   "cell_type": "markdown",
   "id": "66248b25-535a-4409-a4bd-be6a741a430a",
   "metadata": {},
   "source": [
    "Does the hashes works as a proxy for duplicates?"
   ]
  },
  {
   "cell_type": "code",
   "execution_count": 29,
   "id": "f283fb9a-7ca5-44ac-b342-470e54749c73",
   "metadata": {},
   "outputs": [],
   "source": [
    "assert len(df.hash_id.unique()) == len(df) - len(dupes_df) == len(df.drop_duplicates())"
   ]
  },
  {
   "cell_type": "markdown",
   "id": "41ca2152-08d3-420a-b81f-1a6c3f6e4547",
   "metadata": {},
   "source": [
    "What if we exclude the hash?"
   ]
  },
  {
   "cell_type": "code",
   "execution_count": 30,
   "id": "873f963d-186e-41fb-8784-4b8a046a9ea0",
   "metadata": {},
   "outputs": [],
   "source": [
    "slim_df = df.drop([\"hash_id\"], axis=1)"
   ]
  },
  {
   "cell_type": "code",
   "execution_count": 31,
   "id": "29466881-e0bc-4864-91bc-ad219f4c9104",
   "metadata": {},
   "outputs": [],
   "source": [
    "slim_dupes_df = slim_df[slim_df.duplicated()]"
   ]
  },
  {
   "cell_type": "code",
   "execution_count": 32,
   "id": "9f620f84-1247-4b97-862c-9ac98d439d4b",
   "metadata": {},
   "outputs": [
    {
     "name": "stdout",
     "output_type": "stream",
     "text": [
      "<class 'pandas.core.frame.DataFrame'>\n",
      "Int64Index: 0 entries\n",
      "Data columns (total 5 columns):\n",
      " #   Column       Non-Null Count  Dtype  \n",
      "---  ------       --------------  -----  \n",
      " 0   postal_code  0 non-null      object \n",
      " 1   date         0 non-null      object \n",
      " 2   location     0 non-null      object \n",
      " 3   jobs         0 non-null      float64\n",
      " 4   company      0 non-null      object \n",
      "dtypes: float64(1), object(4)\n",
      "memory usage: 0.0+ bytes\n"
     ]
    }
   ],
   "source": [
    "slim_dupes_df.info()"
   ]
  },
  {
   "cell_type": "code",
   "execution_count": 33,
   "id": "7a7ca69a-00e9-40ee-91df-8521024ca958",
   "metadata": {},
   "outputs": [
    {
     "data": {
      "text/html": [
       "<div>\n",
       "<style scoped>\n",
       "    .dataframe tbody tr th:only-of-type {\n",
       "        vertical-align: middle;\n",
       "    }\n",
       "\n",
       "    .dataframe tbody tr th {\n",
       "        vertical-align: top;\n",
       "    }\n",
       "\n",
       "    .dataframe thead th {\n",
       "        text-align: right;\n",
       "    }\n",
       "</style>\n",
       "<table border=\"1\" class=\"dataframe\">\n",
       "  <thead>\n",
       "    <tr style=\"text-align: right;\">\n",
       "      <th></th>\n",
       "      <th>postal_code</th>\n",
       "      <th>total</th>\n",
       "    </tr>\n",
       "  </thead>\n",
       "  <tbody>\n",
       "  </tbody>\n",
       "</table>\n",
       "</div>"
      ],
      "text/plain": [
       "Empty DataFrame\n",
       "Columns: [postal_code, total]\n",
       "Index: []"
      ]
     },
     "execution_count": 33,
     "metadata": {},
     "output_type": "execute_result"
    }
   ],
   "source": [
    "slim_dupes_df.groupby(\"postal_code\").size().rename(\"total\").reset_index()"
   ]
  }
 ],
 "metadata": {
  "kernelspec": {
   "display_name": "Python 3 (ipykernel)",
   "language": "python",
   "name": "python3"
  },
  "language_info": {
   "codemirror_mode": {
    "name": "ipython",
    "version": 3
   },
   "file_extension": ".py",
   "mimetype": "text/x-python",
   "name": "python",
   "nbconvert_exporter": "python",
   "pygments_lexer": "ipython3",
   "version": "3.7.10"
  }
 },
 "nbformat": 4,
 "nbformat_minor": 5
}
