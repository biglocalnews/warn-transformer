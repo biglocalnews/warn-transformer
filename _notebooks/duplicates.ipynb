{
 "cells": [
  {
   "cell_type": "markdown",
   "id": "f0efd7ea-aba9-4889-bd35-c1effbb64b33",
   "metadata": {},
   "source": [
    "# Duplicates\n",
    "\n",
    "Exploring the repeating records with in the dataset."
   ]
  },
  {
   "cell_type": "code",
   "execution_count": 1,
   "id": "347cae8c-4ecc-4048-8560-d5398e0789df",
   "metadata": {},
   "outputs": [],
   "source": [
    "import pandas as pd"
   ]
  },
  {
   "cell_type": "code",
   "execution_count": 3,
   "id": "bf0d5141-7737-4189-834c-6a2ab5a57ce4",
   "metadata": {},
   "outputs": [],
   "source": [
    "df = pd.read_csv(\"~/.warn-transformer/processed/consolidated.csv\")"
   ]
  },
  {
   "cell_type": "code",
   "execution_count": 4,
   "id": "bf22d02f-8d00-4d23-9f70-39334c79e628",
   "metadata": {},
   "outputs": [
    {
     "name": "stdout",
     "output_type": "stream",
     "text": [
      "<class 'pandas.core.frame.DataFrame'>\n",
      "RangeIndex: 42795 entries, 0 to 42794\n",
      "Data columns (total 6 columns):\n",
      " #   Column       Non-Null Count  Dtype  \n",
      "---  ------       --------------  -----  \n",
      " 0   company      42795 non-null  object \n",
      " 1   hash_id      42795 non-null  object \n",
      " 2   location     42257 non-null  object \n",
      " 3   postal_code  42795 non-null  object \n",
      " 4   jobs         42311 non-null  float64\n",
      " 5   date         42788 non-null  object \n",
      "dtypes: float64(1), object(5)\n",
      "memory usage: 2.0+ MB\n"
     ]
    }
   ],
   "source": [
    "df.info()"
   ]
  },
  {
   "cell_type": "code",
   "execution_count": 5,
   "id": "1c62bf91-5327-4ad4-82a7-1cf9dda51b70",
   "metadata": {},
   "outputs": [
    {
     "data": {
      "text/html": [
       "<div>\n",
       "<style scoped>\n",
       "    .dataframe tbody tr th:only-of-type {\n",
       "        vertical-align: middle;\n",
       "    }\n",
       "\n",
       "    .dataframe tbody tr th {\n",
       "        vertical-align: top;\n",
       "    }\n",
       "\n",
       "    .dataframe thead th {\n",
       "        text-align: right;\n",
       "    }\n",
       "</style>\n",
       "<table border=\"1\" class=\"dataframe\">\n",
       "  <thead>\n",
       "    <tr style=\"text-align: right;\">\n",
       "      <th></th>\n",
       "      <th>company</th>\n",
       "      <th>hash_id</th>\n",
       "      <th>location</th>\n",
       "      <th>postal_code</th>\n",
       "      <th>jobs</th>\n",
       "      <th>date</th>\n",
       "    </tr>\n",
       "  </thead>\n",
       "  <tbody>\n",
       "    <tr>\n",
       "      <th>0</th>\n",
       "      <td>Bean’s Cafe</td>\n",
       "      <td>b855422a87ece9da20ec6571e2f8f6f48521d4e06610e5...</td>\n",
       "      <td>Anchorage</td>\n",
       "      <td>AK</td>\n",
       "      <td>40.0</td>\n",
       "      <td>2021-09-16</td>\n",
       "    </tr>\n",
       "    <tr>\n",
       "      <th>1</th>\n",
       "      <td>Kakivik Asset Mgmt</td>\n",
       "      <td>2214cbc57e63037a436152aeb018819a5e8777e2e8eab1...</td>\n",
       "      <td>Prudhoe Bay</td>\n",
       "      <td>AK</td>\n",
       "      <td>134.0</td>\n",
       "      <td>2021-07-02</td>\n",
       "    </tr>\n",
       "    <tr>\n",
       "      <th>2</th>\n",
       "      <td>First Student</td>\n",
       "      <td>20c76d62449eb697b6f95288b8982e36586afd99fc7b7c...</td>\n",
       "      <td>Fairbanks, North Pole</td>\n",
       "      <td>AK</td>\n",
       "      <td>185.0</td>\n",
       "      <td>2021-04-30</td>\n",
       "    </tr>\n",
       "    <tr>\n",
       "      <th>3</th>\n",
       "      <td>GCI Communication Group</td>\n",
       "      <td>0ca0a89d9a684741de7f5199ef69ffc948b5df7e93e22c...</td>\n",
       "      <td>Anchorage</td>\n",
       "      <td>AK</td>\n",
       "      <td>59.0</td>\n",
       "      <td>2021-04-12</td>\n",
       "    </tr>\n",
       "    <tr>\n",
       "      <th>4</th>\n",
       "      <td>RavnAir Group, Corvus Airlines, Hageland Aviat...</td>\n",
       "      <td>b7c5bb7e614fcce37f1f8c7ba00786faa5482270039b5c...</td>\n",
       "      <td>Anchorage and 20 smaller Alaska communities, p...</td>\n",
       "      <td>AK</td>\n",
       "      <td>1234.0</td>\n",
       "      <td>2020-09-30</td>\n",
       "    </tr>\n",
       "  </tbody>\n",
       "</table>\n",
       "</div>"
      ],
      "text/plain": [
       "                                             company  \\\n",
       "0                                        Bean’s Cafe   \n",
       "1                                 Kakivik Asset Mgmt   \n",
       "2                                      First Student   \n",
       "3                            GCI Communication Group   \n",
       "4  RavnAir Group, Corvus Airlines, Hageland Aviat...   \n",
       "\n",
       "                                             hash_id  \\\n",
       "0  b855422a87ece9da20ec6571e2f8f6f48521d4e06610e5...   \n",
       "1  2214cbc57e63037a436152aeb018819a5e8777e2e8eab1...   \n",
       "2  20c76d62449eb697b6f95288b8982e36586afd99fc7b7c...   \n",
       "3  0ca0a89d9a684741de7f5199ef69ffc948b5df7e93e22c...   \n",
       "4  b7c5bb7e614fcce37f1f8c7ba00786faa5482270039b5c...   \n",
       "\n",
       "                                            location postal_code    jobs  \\\n",
       "0                                          Anchorage          AK    40.0   \n",
       "1                                        Prudhoe Bay          AK   134.0   \n",
       "2                              Fairbanks, North Pole          AK   185.0   \n",
       "3                                          Anchorage          AK    59.0   \n",
       "4  Anchorage and 20 smaller Alaska communities, p...          AK  1234.0   \n",
       "\n",
       "         date  \n",
       "0  2021-09-16  \n",
       "1  2021-07-02  \n",
       "2  2021-04-30  \n",
       "3  2021-04-12  \n",
       "4  2020-09-30  "
      ]
     },
     "execution_count": 5,
     "metadata": {},
     "output_type": "execute_result"
    }
   ],
   "source": [
    "df.head()"
   ]
  },
  {
   "cell_type": "code",
   "execution_count": 6,
   "id": "2c7979b6-9fb7-48c8-aa55-c3b7bb585073",
   "metadata": {},
   "outputs": [],
   "source": [
    "dupes_df = df[df.duplicated()]"
   ]
  },
  {
   "cell_type": "code",
   "execution_count": 7,
   "id": "4e774c0b-ccea-463c-a30d-dc0f1d4b495a",
   "metadata": {},
   "outputs": [
    {
     "name": "stdout",
     "output_type": "stream",
     "text": [
      "<class 'pandas.core.frame.DataFrame'>\n",
      "Int64Index: 0 entries\n",
      "Data columns (total 6 columns):\n",
      " #   Column       Non-Null Count  Dtype  \n",
      "---  ------       --------------  -----  \n",
      " 0   company      0 non-null      object \n",
      " 1   hash_id      0 non-null      object \n",
      " 2   location     0 non-null      object \n",
      " 3   postal_code  0 non-null      object \n",
      " 4   jobs         0 non-null      float64\n",
      " 5   date         0 non-null      object \n",
      "dtypes: float64(1), object(5)\n",
      "memory usage: 0.0+ bytes\n"
     ]
    }
   ],
   "source": [
    "dupes_df.info()"
   ]
  },
  {
   "cell_type": "code",
   "execution_count": 8,
   "id": "fd57810b-3bc7-4c77-8ba2-ae4469b14ddb",
   "metadata": {},
   "outputs": [
    {
     "data": {
      "text/html": [
       "<div>\n",
       "<style scoped>\n",
       "    .dataframe tbody tr th:only-of-type {\n",
       "        vertical-align: middle;\n",
       "    }\n",
       "\n",
       "    .dataframe tbody tr th {\n",
       "        vertical-align: top;\n",
       "    }\n",
       "\n",
       "    .dataframe thead th {\n",
       "        text-align: right;\n",
       "    }\n",
       "</style>\n",
       "<table border=\"1\" class=\"dataframe\">\n",
       "  <thead>\n",
       "    <tr style=\"text-align: right;\">\n",
       "      <th></th>\n",
       "      <th>postal_code</th>\n",
       "      <th>total</th>\n",
       "    </tr>\n",
       "  </thead>\n",
       "  <tbody>\n",
       "  </tbody>\n",
       "</table>\n",
       "</div>"
      ],
      "text/plain": [
       "Empty DataFrame\n",
       "Columns: [postal_code, total]\n",
       "Index: []"
      ]
     },
     "execution_count": 8,
     "metadata": {},
     "output_type": "execute_result"
    }
   ],
   "source": [
    "dupes_df.groupby(\"postal_code\").size().rename(\"total\").reset_index()"
   ]
  },
  {
   "cell_type": "markdown",
   "id": "66248b25-535a-4409-a4bd-be6a741a430a",
   "metadata": {},
   "source": [
    "Does the hashes works as a proxy for duplicates?"
   ]
  },
  {
   "cell_type": "code",
   "execution_count": 9,
   "id": "f283fb9a-7ca5-44ac-b342-470e54749c73",
   "metadata": {},
   "outputs": [],
   "source": [
    "assert len(df.hash_id.unique()) == len(df) - len(dupes_df) == len(df.drop_duplicates())"
   ]
  }
 ],
 "metadata": {
  "kernelspec": {
   "display_name": "Python 3 (ipykernel)",
   "language": "python",
   "name": "python3"
  },
  "language_info": {
   "codemirror_mode": {
    "name": "ipython",
    "version": 3
   },
   "file_extension": ".py",
   "mimetype": "text/x-python",
   "name": "python",
   "nbconvert_exporter": "python",
   "pygments_lexer": "ipython3",
   "version": "3.7.12"
  }
 },
 "nbformat": 4,
 "nbformat_minor": 5
}
