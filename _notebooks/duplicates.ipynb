{
 "cells": [
  {
   "cell_type": "markdown",
   "id": "f0efd7ea-aba9-4889-bd35-c1effbb64b33",
   "metadata": {},
   "source": [
    "# Duplicates\n",
    "\n",
    "Exploring the repeating records with in the dataset."
   ]
  },
  {
   "cell_type": "code",
   "execution_count": 1,
   "id": "347cae8c-4ecc-4048-8560-d5398e0789df",
   "metadata": {},
   "outputs": [],
   "source": [
    "import pandas as pd"
   ]
  },
  {
   "cell_type": "code",
   "execution_count": 2,
   "id": "bf0d5141-7737-4189-834c-6a2ab5a57ce4",
   "metadata": {},
   "outputs": [],
   "source": [
    "df = pd.read_csv(\"../.warn-transformer/processed/consolidated.csv\")"
   ]
  },
  {
   "cell_type": "code",
   "execution_count": 3,
   "id": "bf22d02f-8d00-4d23-9f70-39334c79e628",
   "metadata": {},
   "outputs": [
    {
     "name": "stdout",
     "output_type": "stream",
     "text": [
      "<class 'pandas.core.frame.DataFrame'>\n",
      "RangeIndex: 39510 entries, 0 to 39509\n",
      "Data columns (total 6 columns):\n",
      " #   Column       Non-Null Count  Dtype  \n",
      "---  ------       --------------  -----  \n",
      " 0   company      39510 non-null  object \n",
      " 1   hash_id      39510 non-null  object \n",
      " 2   postal_code  39510 non-null  object \n",
      " 3   location     35352 non-null  object \n",
      " 4   jobs         34781 non-null  float64\n",
      " 5   date         35795 non-null  object \n",
      "dtypes: float64(1), object(5)\n",
      "memory usage: 1.8+ MB\n"
     ]
    }
   ],
   "source": [
    "df.info()"
   ]
  },
  {
   "cell_type": "code",
   "execution_count": 4,
   "id": "1c62bf91-5327-4ad4-82a7-1cf9dda51b70",
   "metadata": {},
   "outputs": [
    {
     "data": {
      "text/html": [
       "<div>\n",
       "<style scoped>\n",
       "    .dataframe tbody tr th:only-of-type {\n",
       "        vertical-align: middle;\n",
       "    }\n",
       "\n",
       "    .dataframe tbody tr th {\n",
       "        vertical-align: top;\n",
       "    }\n",
       "\n",
       "    .dataframe thead th {\n",
       "        text-align: right;\n",
       "    }\n",
       "</style>\n",
       "<table border=\"1\" class=\"dataframe\">\n",
       "  <thead>\n",
       "    <tr style=\"text-align: right;\">\n",
       "      <th></th>\n",
       "      <th>company</th>\n",
       "      <th>hash_id</th>\n",
       "      <th>postal_code</th>\n",
       "      <th>location</th>\n",
       "      <th>jobs</th>\n",
       "      <th>date</th>\n",
       "    </tr>\n",
       "  </thead>\n",
       "  <tbody>\n",
       "    <tr>\n",
       "      <th>0</th>\n",
       "      <td>Bean’s Cafe</td>\n",
       "      <td>b855422a87ece9da20ec6571e2f8f6f48521d4e06610e5...</td>\n",
       "      <td>AK</td>\n",
       "      <td>Anchorage</td>\n",
       "      <td>40.0</td>\n",
       "      <td>2021-09-16</td>\n",
       "    </tr>\n",
       "    <tr>\n",
       "      <th>1</th>\n",
       "      <td>Kakivik Asset Mgmt</td>\n",
       "      <td>2214cbc57e63037a436152aeb018819a5e8777e2e8eab1...</td>\n",
       "      <td>AK</td>\n",
       "      <td>Prudhoe Bay</td>\n",
       "      <td>134.0</td>\n",
       "      <td>2021-07-02</td>\n",
       "    </tr>\n",
       "    <tr>\n",
       "      <th>2</th>\n",
       "      <td>First Student</td>\n",
       "      <td>20c76d62449eb697b6f95288b8982e36586afd99fc7b7c...</td>\n",
       "      <td>AK</td>\n",
       "      <td>Fairbanks, North Pole</td>\n",
       "      <td>185.0</td>\n",
       "      <td>2021-04-30</td>\n",
       "    </tr>\n",
       "    <tr>\n",
       "      <th>3</th>\n",
       "      <td>GCI Communication Group</td>\n",
       "      <td>0ca0a89d9a684741de7f5199ef69ffc948b5df7e93e22c...</td>\n",
       "      <td>AK</td>\n",
       "      <td>Anchorage</td>\n",
       "      <td>59.0</td>\n",
       "      <td>2021-04-12</td>\n",
       "    </tr>\n",
       "    <tr>\n",
       "      <th>4</th>\n",
       "      <td>RavnAir Group, Corvus Airlines, Hageland Aviat...</td>\n",
       "      <td>b7c5bb7e614fcce37f1f8c7ba00786faa5482270039b5c...</td>\n",
       "      <td>AK</td>\n",
       "      <td>Anchorage and 20 smaller Alaska communities, p...</td>\n",
       "      <td>NaN</td>\n",
       "      <td>2020-09-30</td>\n",
       "    </tr>\n",
       "  </tbody>\n",
       "</table>\n",
       "</div>"
      ],
      "text/plain": [
       "                                             company  \\\n",
       "0                                        Bean’s Cafe   \n",
       "1                                 Kakivik Asset Mgmt   \n",
       "2                                      First Student   \n",
       "3                            GCI Communication Group   \n",
       "4  RavnAir Group, Corvus Airlines, Hageland Aviat...   \n",
       "\n",
       "                                             hash_id postal_code  \\\n",
       "0  b855422a87ece9da20ec6571e2f8f6f48521d4e06610e5...          AK   \n",
       "1  2214cbc57e63037a436152aeb018819a5e8777e2e8eab1...          AK   \n",
       "2  20c76d62449eb697b6f95288b8982e36586afd99fc7b7c...          AK   \n",
       "3  0ca0a89d9a684741de7f5199ef69ffc948b5df7e93e22c...          AK   \n",
       "4  b7c5bb7e614fcce37f1f8c7ba00786faa5482270039b5c...          AK   \n",
       "\n",
       "                                            location   jobs        date  \n",
       "0                                          Anchorage   40.0  2021-09-16  \n",
       "1                                        Prudhoe Bay  134.0  2021-07-02  \n",
       "2                              Fairbanks, North Pole  185.0  2021-04-30  \n",
       "3                                          Anchorage   59.0  2021-04-12  \n",
       "4  Anchorage and 20 smaller Alaska communities, p...    NaN  2020-09-30  "
      ]
     },
     "execution_count": 4,
     "metadata": {},
     "output_type": "execute_result"
    }
   ],
   "source": [
    "df.head()"
   ]
  },
  {
   "cell_type": "code",
   "execution_count": 5,
   "id": "2c7979b6-9fb7-48c8-aa55-c3b7bb585073",
   "metadata": {},
   "outputs": [],
   "source": [
    "dupes_df = df[df.duplicated()]"
   ]
  },
  {
   "cell_type": "code",
   "execution_count": 6,
   "id": "4e774c0b-ccea-463c-a30d-dc0f1d4b495a",
   "metadata": {},
   "outputs": [
    {
     "name": "stdout",
     "output_type": "stream",
     "text": [
      "<class 'pandas.core.frame.DataFrame'>\n",
      "Int64Index: 166 entries, 367 to 30048\n",
      "Data columns (total 6 columns):\n",
      " #   Column       Non-Null Count  Dtype  \n",
      "---  ------       --------------  -----  \n",
      " 0   company      166 non-null    object \n",
      " 1   hash_id      166 non-null    object \n",
      " 2   postal_code  166 non-null    object \n",
      " 3   location     166 non-null    object \n",
      " 4   jobs         165 non-null    float64\n",
      " 5   date         59 non-null     object \n",
      "dtypes: float64(1), object(5)\n",
      "memory usage: 9.1+ KB\n"
     ]
    }
   ],
   "source": [
    "dupes_df.info()"
   ]
  },
  {
   "cell_type": "code",
   "execution_count": 7,
   "id": "a99a0712-6e2d-4e17-97af-b59e20c547bf",
   "metadata": {},
   "outputs": [
    {
     "data": {
      "text/html": [
       "<div>\n",
       "<style scoped>\n",
       "    .dataframe tbody tr th:only-of-type {\n",
       "        vertical-align: middle;\n",
       "    }\n",
       "\n",
       "    .dataframe tbody tr th {\n",
       "        vertical-align: top;\n",
       "    }\n",
       "\n",
       "    .dataframe thead th {\n",
       "        text-align: right;\n",
       "    }\n",
       "</style>\n",
       "<table border=\"1\" class=\"dataframe\">\n",
       "  <thead>\n",
       "    <tr style=\"text-align: right;\">\n",
       "      <th></th>\n",
       "      <th>company</th>\n",
       "      <th>hash_id</th>\n",
       "      <th>postal_code</th>\n",
       "      <th>location</th>\n",
       "      <th>jobs</th>\n",
       "      <th>date</th>\n",
       "    </tr>\n",
       "  </thead>\n",
       "  <tbody>\n",
       "    <tr>\n",
       "      <th>20793</th>\n",
       "      <td>Spartan Light Metal Products - Mexico</td>\n",
       "      <td>001f1fd9ad1edbca416fb47e84f51387a0161d9561a1f8...</td>\n",
       "      <td>MO</td>\n",
       "      <td>Mexico</td>\n",
       "      <td>332.0</td>\n",
       "      <td>NaN</td>\n",
       "    </tr>\n",
       "    <tr>\n",
       "      <th>20857</th>\n",
       "      <td>Enterprise Holdings - National and Alamo Rent ...</td>\n",
       "      <td>00615e29c56ff4a46a1c0de9fcd7a023b60e3141a1c800...</td>\n",
       "      <td>MO</td>\n",
       "      <td>Kansas City</td>\n",
       "      <td>84.0</td>\n",
       "      <td>NaN</td>\n",
       "    </tr>\n",
       "    <tr>\n",
       "      <th>20069</th>\n",
       "      <td>Commerce Corporation</td>\n",
       "      <td>01a93ea1aa834f89e8af754db49ef52822fa73e5c86be2...</td>\n",
       "      <td>MD</td>\n",
       "      <td>7603 Energy Parkway, Baltimore, MD</td>\n",
       "      <td>NaN</td>\n",
       "      <td>2012-12-27</td>\n",
       "    </tr>\n",
       "    <tr>\n",
       "      <th>20808</th>\n",
       "      <td>Justin Retail</td>\n",
       "      <td>0247d1bfa9256b763989545228578abea24368747e457d...</td>\n",
       "      <td>MO</td>\n",
       "      <td>Monett (7) &amp; Joplin (7)</td>\n",
       "      <td>14.0</td>\n",
       "      <td>NaN</td>\n",
       "    </tr>\n",
       "    <tr>\n",
       "      <th>22804</th>\n",
       "      <td>NY Daily News  -Liberty View Production Facility</td>\n",
       "      <td>035c1c8c3ecf3d8fc7078b674507a9c586b9839a3fc892...</td>\n",
       "      <td>NJ</td>\n",
       "      <td>Jersey City</td>\n",
       "      <td>224.0</td>\n",
       "      <td>2022-03-20</td>\n",
       "    </tr>\n",
       "  </tbody>\n",
       "</table>\n",
       "</div>"
      ],
      "text/plain": [
       "                                                 company  \\\n",
       "20793              Spartan Light Metal Products - Mexico   \n",
       "20857  Enterprise Holdings - National and Alamo Rent ...   \n",
       "20069                               Commerce Corporation   \n",
       "20808                                      Justin Retail   \n",
       "22804   NY Daily News  -Liberty View Production Facility   \n",
       "\n",
       "                                                 hash_id postal_code  \\\n",
       "20793  001f1fd9ad1edbca416fb47e84f51387a0161d9561a1f8...          MO   \n",
       "20857  00615e29c56ff4a46a1c0de9fcd7a023b60e3141a1c800...          MO   \n",
       "20069  01a93ea1aa834f89e8af754db49ef52822fa73e5c86be2...          MD   \n",
       "20808  0247d1bfa9256b763989545228578abea24368747e457d...          MO   \n",
       "22804  035c1c8c3ecf3d8fc7078b674507a9c586b9839a3fc892...          NJ   \n",
       "\n",
       "                                 location   jobs        date  \n",
       "20793                              Mexico  332.0         NaN  \n",
       "20857                         Kansas City   84.0         NaN  \n",
       "20069  7603 Energy Parkway, Baltimore, MD    NaN  2012-12-27  \n",
       "20808             Monett (7) & Joplin (7)   14.0         NaN  \n",
       "22804                         Jersey City  224.0  2022-03-20  "
      ]
     },
     "execution_count": 7,
     "metadata": {},
     "output_type": "execute_result"
    }
   ],
   "source": [
    "dupes_df.sort_values(\"hash_id\").head()"
   ]
  },
  {
   "cell_type": "code",
   "execution_count": 8,
   "id": "fd57810b-3bc7-4c77-8ba2-ae4469b14ddb",
   "metadata": {},
   "outputs": [
    {
     "data": {
      "text/html": [
       "<div>\n",
       "<style scoped>\n",
       "    .dataframe tbody tr th:only-of-type {\n",
       "        vertical-align: middle;\n",
       "    }\n",
       "\n",
       "    .dataframe tbody tr th {\n",
       "        vertical-align: top;\n",
       "    }\n",
       "\n",
       "    .dataframe thead th {\n",
       "        text-align: right;\n",
       "    }\n",
       "</style>\n",
       "<table border=\"1\" class=\"dataframe\">\n",
       "  <thead>\n",
       "    <tr style=\"text-align: right;\">\n",
       "      <th></th>\n",
       "      <th>postal_code</th>\n",
       "      <th>total</th>\n",
       "    </tr>\n",
       "  </thead>\n",
       "  <tbody>\n",
       "    <tr>\n",
       "      <th>0</th>\n",
       "      <td>AL</td>\n",
       "      <td>1</td>\n",
       "    </tr>\n",
       "    <tr>\n",
       "      <th>1</th>\n",
       "      <td>CA</td>\n",
       "      <td>31</td>\n",
       "    </tr>\n",
       "    <tr>\n",
       "      <th>2</th>\n",
       "      <td>FL</td>\n",
       "      <td>1</td>\n",
       "    </tr>\n",
       "    <tr>\n",
       "      <th>3</th>\n",
       "      <td>GA</td>\n",
       "      <td>1</td>\n",
       "    </tr>\n",
       "    <tr>\n",
       "      <th>4</th>\n",
       "      <td>IA</td>\n",
       "      <td>1</td>\n",
       "    </tr>\n",
       "    <tr>\n",
       "      <th>5</th>\n",
       "      <td>IN</td>\n",
       "      <td>1</td>\n",
       "    </tr>\n",
       "    <tr>\n",
       "      <th>6</th>\n",
       "      <td>MD</td>\n",
       "      <td>1</td>\n",
       "    </tr>\n",
       "    <tr>\n",
       "      <th>7</th>\n",
       "      <td>MO</td>\n",
       "      <td>106</td>\n",
       "    </tr>\n",
       "    <tr>\n",
       "      <th>8</th>\n",
       "      <td>NE</td>\n",
       "      <td>4</td>\n",
       "    </tr>\n",
       "    <tr>\n",
       "      <th>9</th>\n",
       "      <td>NJ</td>\n",
       "      <td>15</td>\n",
       "    </tr>\n",
       "    <tr>\n",
       "      <th>10</th>\n",
       "      <td>OR</td>\n",
       "      <td>1</td>\n",
       "    </tr>\n",
       "    <tr>\n",
       "      <th>11</th>\n",
       "      <td>TX</td>\n",
       "      <td>3</td>\n",
       "    </tr>\n",
       "  </tbody>\n",
       "</table>\n",
       "</div>"
      ],
      "text/plain": [
       "   postal_code  total\n",
       "0           AL      1\n",
       "1           CA     31\n",
       "2           FL      1\n",
       "3           GA      1\n",
       "4           IA      1\n",
       "5           IN      1\n",
       "6           MD      1\n",
       "7           MO    106\n",
       "8           NE      4\n",
       "9           NJ     15\n",
       "10          OR      1\n",
       "11          TX      3"
      ]
     },
     "execution_count": 8,
     "metadata": {},
     "output_type": "execute_result"
    }
   ],
   "source": [
    "dupes_df.groupby(\"postal_code\").size().rename(\"total\").reset_index()"
   ]
  },
  {
   "cell_type": "code",
   "execution_count": 9,
   "id": "939d69e5-982d-4bf9-994e-9167f2e6ddf4",
   "metadata": {},
   "outputs": [
    {
     "data": {
      "text/html": [
       "<div>\n",
       "<style scoped>\n",
       "    .dataframe tbody tr th:only-of-type {\n",
       "        vertical-align: middle;\n",
       "    }\n",
       "\n",
       "    .dataframe tbody tr th {\n",
       "        vertical-align: top;\n",
       "    }\n",
       "\n",
       "    .dataframe thead th {\n",
       "        text-align: right;\n",
       "    }\n",
       "</style>\n",
       "<table border=\"1\" class=\"dataframe\">\n",
       "  <thead>\n",
       "    <tr style=\"text-align: right;\">\n",
       "      <th></th>\n",
       "      <th>company</th>\n",
       "      <th>hash_id</th>\n",
       "      <th>postal_code</th>\n",
       "      <th>location</th>\n",
       "      <th>jobs</th>\n",
       "      <th>date</th>\n",
       "    </tr>\n",
       "  </thead>\n",
       "  <tbody>\n",
       "    <tr>\n",
       "      <th>367</th>\n",
       "      <td>FOOD WORLD</td>\n",
       "      <td>6ba1dec3f427574208540669deabfd72f8e1b010b09415...</td>\n",
       "      <td>AL</td>\n",
       "      <td>Mobile</td>\n",
       "      <td>55.0</td>\n",
       "      <td>2009-03-16</td>\n",
       "    </tr>\n",
       "  </tbody>\n",
       "</table>\n",
       "</div>"
      ],
      "text/plain": [
       "        company                                            hash_id  \\\n",
       "367  FOOD WORLD  6ba1dec3f427574208540669deabfd72f8e1b010b09415...   \n",
       "\n",
       "    postal_code location  jobs        date  \n",
       "367          AL   Mobile  55.0  2009-03-16  "
      ]
     },
     "execution_count": 9,
     "metadata": {},
     "output_type": "execute_result"
    }
   ],
   "source": [
    "dupes_df[dupes_df.postal_code == \"AL\"]"
   ]
  },
  {
   "cell_type": "code",
   "execution_count": 11,
   "id": "deef79b0-d5ce-4c97-a106-27c917d53499",
   "metadata": {},
   "outputs": [],
   "source": [
    "# df[df.company == \"FOOD WORLD\"]"
   ]
  },
  {
   "cell_type": "markdown",
   "id": "66248b25-535a-4409-a4bd-be6a741a430a",
   "metadata": {},
   "source": [
    "Does the hashes works as a proxy for duplicates?"
   ]
  },
  {
   "cell_type": "code",
   "execution_count": 16,
   "id": "f283fb9a-7ca5-44ac-b342-470e54749c73",
   "metadata": {},
   "outputs": [],
   "source": [
    "assert len(df.hash_id.unique()) == len(df) - len(dupes_df) == len(df.drop_duplicates())"
   ]
  }
 ],
 "metadata": {
  "kernelspec": {
   "display_name": "Python 3 (ipykernel)",
   "language": "python",
   "name": "python3"
  },
  "language_info": {
   "codemirror_mode": {
    "name": "ipython",
    "version": 3
   },
   "file_extension": ".py",
   "mimetype": "text/x-python",
   "name": "python",
   "nbconvert_exporter": "python",
   "pygments_lexer": "ipython3",
   "version": "3.7.12"
  }
 },
 "nbformat": 4,
 "nbformat_minor": 5
}
